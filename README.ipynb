{
 "cells": [
  {
   "cell_type": "markdown",
   "metadata": {},
   "source": [
    "# **Snake Game**\n",
    "    by: Lazar Katanic A15492724"
   ]
  },
  {
   "cell_type": "markdown",
   "metadata": {},
   "source": [
    "## Description\n",
    "This is my implemention of the classic \"Snake\" game. I thought this would be relevant since Snake brings joy to many people all around the world and a python is a type of snake.\n",
    "This project can be found on github at: https://github.com/lkatanic/COGS-18-Final-Project\n",
    "\n",
    "## How it Works\n",
    "There are two main files: Snake.py and SnakeNode.py. The Snake.py creates a board to store the current gamestate. The board is just an int array, with either values 0 for empty, 1 for food, and 2 for a SnakeNode. The SnakeNode was an object that contained an x and y value.\n",
    "\n",
    "At the beginning of a game, the head of the snake's position is randomly generated, with a default movement option for moving right. The player's input will effect the movement of the snake. The Snake is an array of SnakeNode objects and, for each cycle (in Snake.py::update()), each SnakeNode will take the position of the SnakeNode in front of it. When the head of the SnakeNode is in the same position of food, the snake will add a new SnakeNode at the end, and if the head hits another SnakeNode, the snake will die. Each food will award the user with one point.\n",
    "\n",
    "The player input and screen is all handled by the imported curses module.\n",
    "\n",
    "## How to Run\n",
    "While in the FinalProject, running the following will start the game:\n",
    "\n",
    "    python play.py \n",
    "    \n",
    "Once in the game, the user can press \"W, A, S, D\" to move the snake and \"Q\" to quit.\n",
    "\n",
    "## File Structure\n",
    "    FinalProject\n",
    "    \\-->play.py\n",
    "        .git/\n",
    "        \\--> ...\n",
    "        scripts\n",
    "        \\-->__init__.py\n",
    "            snake_node.py\n",
    "            snake.py\n",
    "            test_snake.py"
   ]
  },
  {
   "cell_type": "code",
   "execution_count": null,
   "metadata": {},
   "outputs": [],
   "source": []
  }
 ],
 "metadata": {
  "kernelspec": {
   "display_name": "Python 3",
   "language": "python",
   "name": "python3"
  },
  "language_info": {
   "codemirror_mode": {
    "name": "ipython",
    "version": 3
   },
   "file_extension": ".py",
   "mimetype": "text/x-python",
   "name": "python",
   "nbconvert_exporter": "python",
   "pygments_lexer": "ipython3",
   "version": "3.7.3"
  }
 },
 "nbformat": 4,
 "nbformat_minor": 2
}
